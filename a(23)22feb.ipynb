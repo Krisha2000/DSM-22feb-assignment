{
 "cells": [
  {
   "cell_type": "markdown",
   "id": "9a951d32-33ab-4025-8440-b27ab5de7585",
   "metadata": {},
   "source": [
    "# Quetion : 1"
   ]
  },
  {
   "cell_type": "code",
   "execution_count": 27,
   "id": "96cd22c8-b4a6-4a18-918c-430abe6e9dcc",
   "metadata": {},
   "outputs": [
    {
     "name": "stdout",
     "output_type": "stream",
     "text": [
      "0     4\n",
      "1     8\n",
      "2    15\n",
      "3    16\n",
      "4    23\n",
      "5    42\n",
      "dtype: int64\n"
     ]
    }
   ],
   "source": [
    "import pandas as pd\n",
    "\n",
    "data = [4, 8, 15, 16, 23, 42]\n",
    "s = pd.Series(data)\n",
    "print(s)\n"
   ]
  },
  {
   "cell_type": "markdown",
   "id": "cf2744fa-1dec-4827-9bac-f28b9d3fdeb6",
   "metadata": {},
   "source": [
    "# Quetion : 2"
   ]
  },
  {
   "cell_type": "code",
   "execution_count": 28,
   "id": "d92a33cb-ba4d-43e4-98bb-672a264cd3b0",
   "metadata": {},
   "outputs": [
    {
     "name": "stdout",
     "output_type": "stream",
     "text": [
      "0     1\n",
      "1     2\n",
      "2     3\n",
      "3     4\n",
      "4     5\n",
      "5     6\n",
      "6     7\n",
      "7     8\n",
      "8     9\n",
      "9    10\n",
      "dtype: int64\n"
     ]
    }
   ],
   "source": [
    "import pandas as pd\n",
    "\n",
    "my_list = [1, 2, 3, 4, 5, 6, 7, 8, 9, 10]\n",
    "s = pd.Series(my_list)\n",
    "print(s)\n"
   ]
  },
  {
   "cell_type": "markdown",
   "id": "11845a67-739e-4014-91a3-23c549b1d4bd",
   "metadata": {},
   "source": [
    "# Quetion : 3"
   ]
  },
  {
   "cell_type": "code",
   "execution_count": 30,
   "id": "4472bdd2-b9e2-4d88-8cf4-31078c2bbcba",
   "metadata": {},
   "outputs": [
    {
     "name": "stdout",
     "output_type": "stream",
     "text": [
      "     Name  Age  Gender\n",
      "0   Allce   25  Female\n",
      "1     Bob   30    Male\n",
      "2  claire   37  Female\n"
     ]
    }
   ],
   "source": [
    "import pandas as pd\n",
    "\n",
    "data = {'Name': ['Allce', 'Bob', 'claire'],\n",
    "        'Age': [25, 30, 37],\n",
    "        'Gender': ['Female', 'Male', 'Female']}\n",
    "df = pd.DataFrame(data)\n",
    "print(df)\n",
    "\n"
   ]
  },
  {
   "cell_type": "markdown",
   "id": "b73b7be6-e484-4994-9c76-7c525938aed0",
   "metadata": {},
   "source": [
    "# Quetion : 4"
   ]
  },
  {
   "cell_type": "markdown",
   "id": "e1bc84bf-da6e-43e2-a40b-37930061237e",
   "metadata": {},
   "source": [
    " A DataFrame in Pandas is a two-dimensional labeled data structure with columns of potentially different types. It is similar to a table in a relational database or a spreadsheet. It can be thought of as a collection of Pandas Series objects, where each Series represents a column of data.\n",
    "\n",
    "A Pandas Series, on the other hand, is a one-dimensional labeled array that can hold data of any type (integer, string, float, etc.). It can be thought of as a single column of a DataFrame."
   ]
  },
  {
   "cell_type": "markdown",
   "id": "3dbeeea8-e6c5-4104-bad4-2fc98c304acc",
   "metadata": {},
   "source": [
    "# Quetion : 5"
   ]
  },
  {
   "cell_type": "markdown",
   "id": "3d56fc7d-d074-4fed-9928-511732c52d1b",
   "metadata": {},
   "source": [
    "Some common functions for manipulating data in a Pandas DataFrame include:\n",
    "\n",
    "head() and tail(): These functions are used to show the first or last n rows of the DataFrame. For example, df.head(5) would show the first 5 rows of the DataFrame df.\n",
    "\n",
    "describe(): This function is used to get a summary of the statistics of the DataFrame, such as count, mean, standard deviation, etc. For example, df.describe() would show the summary statistics of the DataFrame df.\n",
    "\n"
   ]
  },
  {
   "cell_type": "markdown",
   "id": "03b5d714-c715-4675-8648-a7724a414a58",
   "metadata": {},
   "source": [
    "# Quetion : 6"
   ]
  },
  {
   "cell_type": "markdown",
   "id": "00139d61-5252-4031-b1f1-53f871d3bbee",
   "metadata": {},
   "source": [
    "In Pandas, both Series and DataFrame are mutable in nature, which means you can modify their values after they are created. However, Panels are not mutable, as they have been deprecated since version 0.25.0 of Pandas and are no longer recommended for use."
   ]
  },
  {
   "cell_type": "markdown",
   "id": "9dfc8229-1eae-4ca9-bfa8-39ae414e4659",
   "metadata": {},
   "source": [
    "# Quetion : 7"
   ]
  },
  {
   "cell_type": "markdown",
   "id": "57f415b8-65a0-4b61-acaa-674e7c4ab03c",
   "metadata": {},
   "source": [
    "You can create a Pandas DataFrame using multiple Series by passing them as a dictionary to the pd.DataFrame() constructor. Each Series will represent a column in the resulting DataFrame. Here's an example:\n"
   ]
  },
  {
   "cell_type": "code",
   "execution_count": 31,
   "id": "27eeec1f-7e80-499f-8b7a-80a4441e7af2",
   "metadata": {},
   "outputs": [
    {
     "name": "stdout",
     "output_type": "stream",
     "text": [
      "    Name  Age         City\n",
      "0   John   25     New York\n",
      "1  Linda   30  Los Angeles\n",
      "2   Mike   35      Chicago\n",
      "3   Lisa   40      Houston\n"
     ]
    }
   ],
   "source": [
    "import pandas as pd\n",
    "\n",
    "# Create three Pandas Series\n",
    "name = pd.Series(['John', 'Linda', 'Mike', 'Lisa'])\n",
    "age = pd.Series([25, 30, 35, 40])\n",
    "city = pd.Series(['New York', 'Los Angeles', 'Chicago', 'Houston'])\n",
    "\n",
    "# Combine the Series into a DataFrame\n",
    "data = {'Name': name, 'Age': age, 'City': city}\n",
    "df = pd.DataFrame(data)\n",
    "\n",
    "# Print the DataFrame\n",
    "print(df)\n"
   ]
  },
  {
   "cell_type": "code",
   "execution_count": 25,
   "id": "4ae9eeb1-ef8a-47c2-949b-59672b983690",
   "metadata": {},
   "outputs": [],
   "source": [
    "# Quetion : 8\n"
   ]
  },
  {
   "cell_type": "code",
   "execution_count": 26,
   "id": "587153f5-6f2f-419d-8d0c-2de9c526d8d9",
   "metadata": {},
   "outputs": [],
   "source": [
    "# Quetion : 9"
   ]
  },
  {
   "cell_type": "code",
   "execution_count": null,
   "id": "b9237238-3c24-448a-859d-31d976a8bb2b",
   "metadata": {},
   "outputs": [],
   "source": [
    "# Quetion : 10"
   ]
  }
 ],
 "metadata": {
  "kernelspec": {
   "display_name": "Python 3 (ipykernel)",
   "language": "python",
   "name": "python3"
  },
  "language_info": {
   "codemirror_mode": {
    "name": "ipython",
    "version": 3
   },
   "file_extension": ".py",
   "mimetype": "text/x-python",
   "name": "python",
   "nbconvert_exporter": "python",
   "pygments_lexer": "ipython3",
   "version": "3.10.8"
  }
 },
 "nbformat": 4,
 "nbformat_minor": 5
}
